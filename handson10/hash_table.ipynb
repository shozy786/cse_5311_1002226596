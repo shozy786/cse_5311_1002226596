{
 "cells": [
  {
   "cell_type": "code",
   "execution_count": null,
   "metadata": {},
   "outputs": [],
   "source": [
    "class Node:\n",
    "    def __init__(self, key, value, prev = None, next = None):\n",
    "        self.key = key\n",
    "        self.value = value\n",
    "        self.prev = prev\n",
    "        self.next = next\n",
    "\n",
    "class DoubleLinkedList:\n",
    "    def __init__(self):\n",
    "        self.head = None\n",
    "        self.size = 0\n",
    "    \n",
    "    def insert(self, key, value):\n",
    "        if self.head is None:\n",
    "            self.head =  Node(key, value)\n",
    "        else:\n",
    "            new_node = Node(key, value)\n",
    "            new_node.next = self.head\n",
    "            self.head.prev = new_node\n",
    "            self.head = new_node\n",
    "        self.size += 1\n",
    "    \n",
    "    def delete(self, key, value):\n",
    "        if self.head is None:\n",
    "            return\n",
    "        elif self.head.next is None:\n",
    "            if self.head.key == key and self.head.value == value:\n",
    "                del self.head\n",
    "                self.head = None\n",
    "                self.size -= 1\n",
    "            else:\n",
    "                raise Exception(\"No key found!\")\n",
    "        else:\n",
    "            current = self.head\n",
    "            prev = None\n",
    "            found = False\n",
    "            while current != None:\n",
    "                if current.key == key and current.value == value:\n",
    "                    found = True\n",
    "                    break\n",
    "                prev = current\n",
    "                current = current.next\n",
    "            if found:\n",
    "                if prev is None:\n",
    "                    self.head = self.head.next\n",
    "                    del current\n",
    "                else:\n",
    "                    prev.next = current.next\n",
    "                    if current.next is not None:\n",
    "                        current.next.prev = prev\n",
    "                    del current\n",
    "                self.size -= 1\n",
    "            else:\n",
    "                raise Exception(\"No key found!\")\n",
    "        if self.size == 0:\n",
    "            return \"empty\"\n",
    "    \n",
    "    def get_all(self):\n",
    "        arr = []\n",
    "        current = self.head\n",
    "        while current is not None:\n",
    "            arr.append(current.value)\n",
    "            current = current.next\n",
    "        return arr\n",
    "\n",
    "    def print_dll(self):\n",
    "        current = self.head\n",
    "        while current is not None:\n",
    "            print(f'Key: {current.key}, Value: {current.value}')\n",
    "            current = current.next"
   ]
  },
  {
   "cell_type": "code",
   "execution_count": 101,
   "metadata": {},
   "outputs": [],
   "source": [
    "class HashTable:\n",
    "    def __init__(self, capacity = 20, mul=False):\n",
    "        self.capacity = 20\n",
    "        self.hash_table = [None for i in range(capacity)]\n",
    "        if mul:\n",
    "            self.hash = self.hash_mul\n",
    "        else:\n",
    "            self.hash = self.hash_div\n",
    "\n",
    "\n",
    "    def hash_div(self, key):\n",
    "        return key%self.capacity\n",
    "    \n",
    "    def hash_mul(self, key):\n",
    "        A = 0.618 # Chosen constant\n",
    "        return int(self.capacity * ((key*A)%1))\n",
    "    \n",
    "    def insert(self, x):\n",
    "        hash_value = self.hash(x)\n",
    "        if self.hash_table[hash_value] is None:\n",
    "            self.hash_table[hash_value] = DoubleLinkedList()\n",
    "            self.hash_table[hash_value].insert(hash_value, x)\n",
    "        else:\n",
    "            self.hash_table[hash_value].insert(hash_value, x)\n",
    "        \n",
    "        if self.hash_table.count(None) == 0:\n",
    "            self.grow()\n",
    "    \n",
    "    def grow(self):\n",
    "        data = []\n",
    "        for i in range(self.capacity):\n",
    "            data += self.hash_table[i].get_all()\n",
    "        \n",
    "        self.capacity = 2*self.capacity\n",
    "        self.hash_table = [None for i in range(self.capacity)]\n",
    "        for i in data:\n",
    "            self.insert(i)\n",
    "    \n",
    "    def delete(self, x):\n",
    "        hash_value = self.hash(x)\n",
    "        if self.hash_table[hash_value] is None:\n",
    "            raise Exception(\"No element found!\")\n",
    "        if self.hash_table[hash_value].delete(hash_value) == \"empty\":\n",
    "            self.hash_table[hash_value] = None\n",
    "        \n",
    "        if self.capacity != 20 and self.hash_table.count(None)*4 >= self.capacity:\n",
    "            self.shrink()\n",
    "    \n",
    "    def shrink(self):\n",
    "        data = []\n",
    "        for i in range(self.capacity):\n",
    "            if self.hash_table[i] is not None:\n",
    "                data += self.hash_table[i].get_all()\n",
    "        self.capacity = self.capacity//2\n",
    "        self.hash_table = [None for i in range(self.capacity)]\n",
    "        for i in data:\n",
    "            self.insert(i)\n"
   ]
  },
  {
   "cell_type": "code",
   "execution_count": 102,
   "metadata": {},
   "outputs": [
    {
     "name": "stdout",
     "output_type": "stream",
     "text": [
      "Capacity:  20\n"
     ]
    }
   ],
   "source": [
    "ht = HashTable()\n",
    "print(\"Capacity: \", ht.capacity)\n",
    "for i in range(100):\n",
    "    ht.insert(i)"
   ]
  },
  {
   "cell_type": "code",
   "execution_count": 103,
   "metadata": {},
   "outputs": [
    {
     "name": "stdout",
     "output_type": "stream",
     "text": [
      "Capacity:  160\n",
      "[0, 1, 2, 3, 4, 5, 6, 7, 8, 9, 10, 11, 12, 13, 14, 15, 16, 17, 18, 19, 20, 21, 22, 23, 24, 25, 26, 27, 28, 29, 30, 31, 32, 33, 34, 35, 36, 37, 38, 39, 40, 41, 42, 43, 44, 45, 46, 47, 48, 49, 50, 51, 52, 53, 54, 55, 56, 57, 58, 59, 60, 61, 62, 63, 64, 65, 66, 67, 68, 69, 70, 71, 72, 73, 74, 75, 76, 77, 78, 79, 80, 81, 82, 83, 84, 85, 86, 87, 88, 89, 90, 91, 92, 93, 94, 95, 96, 97, 98, 99]\n"
     ]
    }
   ],
   "source": [
    "data = []\n",
    "for i in range(ht.capacity):\n",
    "    if ht.hash_table[i] is None:\n",
    "        continue\n",
    "    data += ht.hash_table[i].get_all()\n",
    "print(\"Capacity: \", ht.capacity)\n",
    "print(data)\n"
   ]
  },
  {
   "cell_type": "code",
   "execution_count": null,
   "metadata": {},
   "outputs": [
    {
     "name": "stdout",
     "output_type": "stream",
     "text": [
      "Capacity:  80\n",
      "[80, 81, 82, 83, 84, 85, 86, 87, 88, 89, 90, 91, 92, 93, 94, 95, 96, 97, 98, 99, 50, 51, 52, 53, 54, 55, 56, 57, 58, 59, 60, 61, 62, 63, 64, 65, 66, 67, 68, 69, 70, 71, 72, 73, 74, 75, 76, 77, 78, 79]\n"
     ]
    }
   ],
   "source": [
    "for i in data[:50]:\n",
    "    ht.delete(i)\n",
    "data = []\n",
    "for i in range(ht.capacity):\n",
    "    if ht.hash_table[i] is None:\n",
    "        continue\n",
    "    data += ht.hash_table[i].get_all()\n",
    "print(\"Capacity: \", ht.capacity)\n",
    "print(data)"
   ]
  }
 ],
 "metadata": {
  "kernelspec": {
   "display_name": "Python 3",
   "language": "python",
   "name": "python3"
  },
  "language_info": {
   "codemirror_mode": {
    "name": "ipython",
    "version": 3
   },
   "file_extension": ".py",
   "mimetype": "text/x-python",
   "name": "python",
   "nbconvert_exporter": "python",
   "pygments_lexer": "ipython3",
   "version": "3.13.0"
  }
 },
 "nbformat": 4,
 "nbformat_minor": 2
}

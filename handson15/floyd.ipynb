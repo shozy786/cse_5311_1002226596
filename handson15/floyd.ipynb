{
 "cells": [
  {
   "cell_type": "code",
   "execution_count": 1,
   "id": "cae1fff2",
   "metadata": {},
   "outputs": [],
   "source": [
    "def floyd_warshall(graph, vertices):\n",
    "    dist = {u: {v: float('inf') for v in vertices} for u in vertices}\n",
    "    next_node = {u: {v: None for v in vertices} for u in vertices}\n",
    "\n",
    "    for u in vertices:\n",
    "        dist[u][u] = 0\n",
    "\n",
    "    for u in graph:\n",
    "        for v, w in graph[u].items():\n",
    "            dist[u][v] = w\n",
    "            next_node[u][v] = v\n",
    "\n",
    "    for k in vertices:\n",
    "        for i in vertices:\n",
    "            for j in vertices:\n",
    "                if dist[i][k] + dist[k][j] < dist[i][j]:\n",
    "                    dist[i][j] = dist[i][k] + dist[k][j]\n",
    "                    next_node[i][j] = next_node[i][k]\n",
    "\n",
    "    return dist, next_node\n"
   ]
  },
  {
   "cell_type": "code",
   "execution_count": 3,
   "id": "34d63f7b",
   "metadata": {},
   "outputs": [
    {
     "name": "stdout",
     "output_type": "stream",
     "text": [
      "All-pairs shortest path distances using Flloyd Warshall's Algorithm: \n",
      "From s to s: 0\n",
      "From s to t: 8\n",
      "From s to x: 9\n",
      "From s to y: 5\n",
      "From s to z: 7\n",
      "From t to s: 11\n",
      "From t to t: 0\n",
      "From t to x: 1\n",
      "From t to y: 2\n",
      "From t to z: 4\n",
      "From x to s: 11\n",
      "From x to t: 19\n",
      "From x to x: 0\n",
      "From x to y: 16\n",
      "From x to z: 4\n",
      "From y to s: 9\n",
      "From y to t: 3\n",
      "From y to x: 4\n",
      "From y to y: 0\n",
      "From y to z: 2\n",
      "From z to s: 7\n",
      "From z to t: 15\n",
      "From z to x: 6\n",
      "From z to y: 12\n",
      "From z to z: 0\n"
     ]
    }
   ],
   "source": [
    "graph = {\n",
    "    's': {'t': 10, 'y': 5},\n",
    "    't': {'x': 1, 'y': 2},\n",
    "    'y': {'t': 3, 'x': 9, 'z': 2},\n",
    "    'x': {'z': 4},\n",
    "    'z': {'s': 7, 'x': 6}\n",
    "}\n",
    "\n",
    "vertices = ['s', 't', 'x', 'y', 'z']\n",
    "distances, _ = floyd_warshall(graph, vertices)\n",
    "\n",
    "print(\"All-pairs shortest path distances using Flloyd Warshall's Algorithm: \")\n",
    "for u in vertices:\n",
    "    for v in vertices:\n",
    "        d = distances[u][v]\n",
    "        print(f\"From {u} to {v}: {d if d != float('inf') else 'inf'}\")"
   ]
  }
 ],
 "metadata": {
  "kernelspec": {
   "display_name": "Python 3",
   "language": "python",
   "name": "python3"
  },
  "language_info": {
   "codemirror_mode": {
    "name": "ipython",
    "version": 3
   },
   "file_extension": ".py",
   "mimetype": "text/x-python",
   "name": "python",
   "nbconvert_exporter": "python",
   "pygments_lexer": "ipython3",
   "version": "3.9.6"
  }
 },
 "nbformat": 4,
 "nbformat_minor": 5
}

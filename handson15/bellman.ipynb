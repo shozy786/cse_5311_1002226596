{
 "cells": [
  {
   "cell_type": "code",
   "execution_count": 1,
   "id": "5128cc94",
   "metadata": {},
   "outputs": [],
   "source": [
    "def bellman_ford(graph, vertices, source):\n",
    "    dist = {v: float('inf') for v in vertices}\n",
    "    dist[source] = 0\n",
    "    pred = {v: None for v in vertices}\n",
    "\n",
    "    for _ in range(len(vertices) - 1):\n",
    "        for u in graph:\n",
    "            for v, weight in graph[u].items():\n",
    "                if dist[u] + weight < dist[v]:\n",
    "                    dist[v] = dist[u] + weight\n",
    "                    pred[v] = u\n",
    "\n",
    "    for u in graph:\n",
    "        for v, weight in graph[u].items():\n",
    "            if dist[u] + weight < dist[v]:\n",
    "                raise ValueError(\"Graph contains a negative-weight cycle\")\n",
    "\n",
    "    return dist, pred\n"
   ]
  },
  {
   "cell_type": "code",
   "execution_count": 2,
   "id": "f6f23bbc",
   "metadata": {},
   "outputs": [],
   "source": [
    "graph = {\n",
    "    's': {'t': 10, 'y': 5},\n",
    "    't': {'x': 1, 'y': 2},\n",
    "    'y': {'t': 3, 'x': 9, 'z': 2},\n",
    "    'x': {'z': 4},\n",
    "    'z': {'s': 7, 'x': 6}\n",
    "}\n",
    "\n",
    "vertices = ['s', 't', 'x', 'y', 'z']"
   ]
  },
  {
   "cell_type": "code",
   "execution_count": 3,
   "id": "1599ab3f",
   "metadata": {},
   "outputs": [
    {
     "name": "stdout",
     "output_type": "stream",
     "text": [
      "Shortest distances from source 's' using Bellman-Ford Algorithm:\n",
      "s: 0\n",
      "t: 8\n",
      "x: 9\n",
      "y: 5\n",
      "z: 7\n"
     ]
    }
   ],
   "source": [
    "distances, predecessors = bellman_ford(graph, vertices, 's')\n",
    "print(\"Shortest distances from source 's' using Bellman-Ford Algorithm:\")\n",
    "for v in sorted(distances):\n",
    "    print(f\"{v}: {distances[v]}\")"
   ]
  }
 ],
 "metadata": {
  "kernelspec": {
   "display_name": "Python 3",
   "language": "python",
   "name": "python3"
  },
  "language_info": {
   "codemirror_mode": {
    "name": "ipython",
    "version": 3
   },
   "file_extension": ".py",
   "mimetype": "text/x-python",
   "name": "python",
   "nbconvert_exporter": "python",
   "pygments_lexer": "ipython3",
   "version": "3.9.6"
  }
 },
 "nbformat": 4,
 "nbformat_minor": 5
}

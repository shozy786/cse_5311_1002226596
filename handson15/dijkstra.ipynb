{
 "cells": [
  {
   "cell_type": "code",
   "execution_count": 1,
   "id": "35cd4cf5",
   "metadata": {},
   "outputs": [],
   "source": [
    "import heapq # Using it as priority queue\n",
    "\n",
    "def dijkstra(graph, source):\n",
    "    dist = {v: float('inf') for v in graph}\n",
    "    dist[source] = 0\n",
    "    prev = {v: None for v in graph}\n",
    "    pq = [(0, source)] \n",
    "\n",
    "    while pq:\n",
    "        d, u = heapq.heappop(pq)\n",
    "        if d > dist[u]:\n",
    "            continue\n",
    "        for v, weight in graph[u].items():\n",
    "            if dist[v] > dist[u] + weight:\n",
    "                dist[v] = dist[u] + weight\n",
    "                prev[v] = u\n",
    "                heapq.heappush(pq, (dist[v], v))\n",
    "    \n",
    "    return dist, prev"
   ]
  },
  {
   "cell_type": "code",
   "execution_count": 3,
   "id": "91eb20fc",
   "metadata": {},
   "outputs": [
    {
     "name": "stdout",
     "output_type": "stream",
     "text": [
      "Shortest distances from source 's' using Dijkstra's Algorithm:\n",
      "s: 0\n",
      "t: 8\n",
      "x: 9\n",
      "y: 5\n",
      "z: 7\n"
     ]
    }
   ],
   "source": [
    "graph = {\n",
    "    's': {'t': 10, 'y': 5},\n",
    "    't': {'x': 1, 'y': 2},\n",
    "    'y': {'t': 3, 'x': 9, 'z': 2},\n",
    "    'x': {'z': 4},\n",
    "    'z': {'s': 7, 'x': 6}\n",
    "}\n",
    "\n",
    "\n",
    "distances, predecessors = dijkstra(graph, 's')\n",
    "\n",
    "print(\"Shortest distances from source 's' using Dijkstra's Algorithm:\")\n",
    "for vertex in sorted(distances):\n",
    "    print(f\"{vertex}: {distances[vertex]}\")"
   ]
  }
 ],
 "metadata": {
  "kernelspec": {
   "display_name": "Python 3",
   "language": "python",
   "name": "python3"
  },
  "language_info": {
   "codemirror_mode": {
    "name": "ipython",
    "version": 3
   },
   "file_extension": ".py",
   "mimetype": "text/x-python",
   "name": "python",
   "nbconvert_exporter": "python",
   "pygments_lexer": "ipython3",
   "version": "3.9.6"
  }
 },
 "nbformat": 4,
 "nbformat_minor": 5
}

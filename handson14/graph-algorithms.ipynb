{
 "cells": [
  {
   "cell_type": "code",
   "execution_count": 1,
   "id": "8bbedadc",
   "metadata": {},
   "outputs": [],
   "source": [
    "def topological_sort(vertices, edges):\n",
    "    graph = {}\n",
    "    in_degree = {v: 0 for v in vertices}\n",
    "\n",
    "    for v in vertices:\n",
    "        graph[v] = []\n",
    "\n",
    "    for u, v in edges:\n",
    "        graph[u].append(v)\n",
    "        in_degree[v] += 1\n",
    "\n",
    "    queue = [v for v in vertices if in_degree[v] == 0]\n",
    "    topo_order = []\n",
    "\n",
    "    while queue:\n",
    "        node = queue.pop(0)\n",
    "        topo_order.append(node)\n",
    "        for neighbor in graph[node]:\n",
    "            in_degree[neighbor] -= 1\n",
    "            if in_degree[neighbor] == 0:\n",
    "                queue.append(neighbor)\n",
    "\n",
    "    if len(topo_order) != len(vertices):\n",
    "        raise ValueError(\"Graph has a cycle\")\n",
    "\n",
    "    return topo_order"
   ]
  },
  {
   "cell_type": "code",
   "execution_count": 2,
   "id": "ec0b9b8e",
   "metadata": {},
   "outputs": [
    {
     "name": "stdout",
     "output_type": "stream",
     "text": [
      "['A', 'B', 'C', 'D', 'E', 'F']\n"
     ]
    }
   ],
   "source": [
    "vertices = ['A', 'B', 'C', 'D', 'E', 'F']\n",
    "edges = [('A', 'C'), ('B', 'C'), ('C', 'D'), ('D', 'E'), ('E', 'F')]\n",
    "print(topological_sort(vertices, edges))"
   ]
  },
  {
   "cell_type": "code",
   "execution_count": 3,
   "id": "4307e4e3",
   "metadata": {},
   "outputs": [],
   "source": [
    "def depth_first_search(graph, start, visited=None):\n",
    "    if visited is None:\n",
    "        visited = set()\n",
    "\n",
    "    visited.add(start)\n",
    "    print(start)\n",
    "\n",
    "    for neighbor in graph[start]:\n",
    "        if neighbor not in visited:\n",
    "            depth_first_search(graph, neighbor, visited)"
   ]
  },
  {
   "cell_type": "code",
   "execution_count": 4,
   "id": "f5eb67eb",
   "metadata": {},
   "outputs": [
    {
     "name": "stdout",
     "output_type": "stream",
     "text": [
      "A\n",
      "B\n",
      "D\n",
      "E\n",
      "F\n",
      "C\n"
     ]
    }
   ],
   "source": [
    "graph = {\n",
    "    'A': ['B', 'C'],\n",
    "    'B': ['D', 'E'],\n",
    "    'C': ['F'],\n",
    "    'D': [],\n",
    "    'E': ['F'],\n",
    "    'F': []\n",
    "}\n",
    "depth_first_search(graph, 'A')"
   ]
  },
  {
   "cell_type": "code",
   "execution_count": 5,
   "id": "b06578ad",
   "metadata": {},
   "outputs": [],
   "source": [
    "def kruskal(vertices, edges):\n",
    "    parent = {v: v for v in vertices}\n",
    "\n",
    "    def find(v):\n",
    "        while parent[v] != v:\n",
    "            parent[v] = parent[parent[v]]\n",
    "            v = parent[v]\n",
    "        return v\n",
    "\n",
    "    def union(v1, v2):\n",
    "        root1 = find(v1)\n",
    "        root2 = find(v2)\n",
    "        if root1 != root2:\n",
    "            parent[root2] = root1\n",
    "\n",
    "    mst = []\n",
    "    edges.sort(key=lambda x: x[2])\n",
    "\n",
    "    for u, v, weight in edges:\n",
    "        if find(u) != find(v):\n",
    "            union(u, v)\n",
    "            mst.append((u, v, weight))\n",
    "\n",
    "    return mst"
   ]
  },
  {
   "cell_type": "code",
   "execution_count": 6,
   "id": "3f83a59c",
   "metadata": {},
   "outputs": [
    {
     "name": "stdout",
     "output_type": "stream",
     "text": [
      "[('A', 'B', 1), ('B', 'C', 1), ('C', 'D', 1), ('D', 'E', 2)]\n"
     ]
    }
   ],
   "source": [
    "vertices = ['A', 'B', 'C', 'D', 'E']\n",
    "edges = [\n",
    "    ('A', 'B', 1),\n",
    "    ('A', 'C', 3),\n",
    "    ('B', 'C', 1),\n",
    "    ('B', 'D', 4),\n",
    "    ('C', 'D', 1),\n",
    "    ('D', 'E', 2)\n",
    "]\n",
    "print(kruskal(vertices, edges))"
   ]
  }
 ],
 "metadata": {
  "kernelspec": {
   "display_name": "Python 3",
   "language": "python",
   "name": "python3"
  },
  "language_info": {
   "codemirror_mode": {
    "name": "ipython",
    "version": 3
   },
   "file_extension": ".py",
   "mimetype": "text/x-python",
   "name": "python",
   "nbconvert_exporter": "python",
   "pygments_lexer": "ipython3",
   "version": "3.9.6"
  }
 },
 "nbformat": 4,
 "nbformat_minor": 5
}

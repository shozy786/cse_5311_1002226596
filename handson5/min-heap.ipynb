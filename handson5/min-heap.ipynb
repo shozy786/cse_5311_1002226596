{
 "cells": [
  {
   "cell_type": "markdown",
   "metadata": {},
   "source": [
    "### CSE 5311 - 1002226596 - Handson5"
   ]
  },
  {
   "cell_type": "code",
   "execution_count": 7,
   "metadata": {},
   "outputs": [],
   "source": [
    "from typing import List, TypeVar, Generic\n",
    "T = TypeVar('T')"
   ]
  },
  {
   "cell_type": "code",
   "execution_count": 35,
   "metadata": {},
   "outputs": [],
   "source": [
    "class MinHeap(Generic[T]):\n",
    "    def __init__(self, array: List[T] = None):\n",
    "        if array is None:\n",
    "            self.array = []\n",
    "        else:\n",
    "            self.array = array\n",
    "            self.build_min_heap()\n",
    "\n",
    "    def left_index(self, index):\n",
    "        return 2 * index + 1\n",
    "\n",
    "    def right_index(self, index):\n",
    "        return 2 * index + 2\n",
    "\n",
    "    def parent_index(self, index):\n",
    "        return (index - 1) // 2\n",
    "\n",
    "    def min_heapify(self, index):\n",
    "        minimum = index\n",
    "        left = self.left_index(index)\n",
    "        right = self.right_index(index)\n",
    "        \n",
    "        if left < len(self.array) and self.array[left] < self.array[minimum]:\n",
    "            minimum = left\n",
    "        \n",
    "        if right < len(self.array) and self.array[right] < self.array[minimum]:\n",
    "            minimum = right\n",
    "        \n",
    "        if minimum != index:\n",
    "            self.array[minimum], self.array[index] = self.array[index], self.array[minimum]\n",
    "            self.min_heapify(minimum)\n",
    "\n",
    "    def build_min_heap(self):\n",
    "        for i in range(len(self.array) // 2 - 1, -1, -1):\n",
    "            self.min_heapify(i)\n",
    "\n",
    "    def insert(self, value: T):\n",
    "        self.array.append(value)\n",
    "        index = len(self.array) - 1\n",
    "        while index > 0 and self.array[self.parent_index(index)] > self.array[index]:\n",
    "            self.array[self.parent_index(index)], self.array[index] = self.array[index], self.array[self.parent_index(index)]\n",
    "            index = self.parent_index(index)\n",
    "\n",
    "    def pop(self) -> T:\n",
    "        if len(self.array) == 0:\n",
    "            return None\n",
    "        if len(self.array) == 1:\n",
    "            return self.array.pop()\n",
    "        root = self.array[0]\n",
    "        self.array[0] = self.array.pop()\n",
    "        self.min_heapify(0)\n",
    "        return root\n",
    "    def display(self):\n",
    "        print(self.array)\n",
    "    "
   ]
  },
  {
   "cell_type": "code",
   "execution_count": 36,
   "metadata": {},
   "outputs": [
    {
     "name": "stdout",
     "output_type": "stream",
     "text": [
      "--- Integer Heap ---\n",
      "[2, 3, 6, 5, 9]\n",
      "[1, 3, 2, 5, 9, 6]\n",
      "Extract Min (pop): 1\n",
      "[2, 3, 6, 5, 9]\n",
      "--- Float Heap ---\n",
      "[1.8, 2.1, 4.6, 3.5]\n",
      "[0.5, 1.8, 4.6, 3.5, 2.1]\n",
      "Extract Min (pop): 0.5\n",
      "[1.8, 2.1, 4.6, 3.5]\n"
     ]
    }
   ],
   "source": [
    "print(\"--- Integer Heap ---\")\n",
    "int_heap = MinHeap([9, 5, 6, 2, 3])\n",
    "int_heap.display()\n",
    "int_heap.insert(1)\n",
    "int_heap.display()\n",
    "print(\"Extract Min (pop):\", int_heap.pop())\n",
    "int_heap.display()\n",
    "\n",
    "print(\"--- Float Heap ---\")\n",
    "float_heap = MinHeap([3.5, 2.1, 4.6, 1.8])\n",
    "float_heap.display()\n",
    "float_heap.insert(0.5)\n",
    "float_heap.display()\n",
    "print(\"Extract Min (pop):\", float_heap.pop())\n",
    "float_heap.display()"
   ]
  }
 ],
 "metadata": {
  "kernelspec": {
   "display_name": "Python 3",
   "language": "python",
   "name": "python3"
  },
  "language_info": {
   "codemirror_mode": {
    "name": "ipython",
    "version": 3
   },
   "file_extension": ".py",
   "mimetype": "text/x-python",
   "name": "python",
   "nbconvert_exporter": "python",
   "pygments_lexer": "ipython3",
   "version": "3.13.0"
  }
 },
 "nbformat": 4,
 "nbformat_minor": 2
}

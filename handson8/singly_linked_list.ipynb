{
 "cells": [
  {
   "cell_type": "code",
   "execution_count": 18,
   "metadata": {},
   "outputs": [],
   "source": [
    "class Node:\n",
    "    def __init__(self, key):\n",
    "        self.key = key\n",
    "        self.next = None\n",
    "class SinglyLinkedList:\n",
    "    def __init__(self):\n",
    "        self.head = None\n",
    "    \n",
    "    def insert(self, key):\n",
    "        new_node = Node(key)\n",
    "        if self.head is None:\n",
    "            self.head = new_node\n",
    "        else:\n",
    "            new_node.next = self.head\n",
    "            self.head = new_node\n",
    "    \n",
    "    def search(self, key):\n",
    "        current = self.head\n",
    "        while current != None and key != current.key:\n",
    "            current = current.next\n",
    "        return current\n",
    "    \n",
    "    def delete(self, key):\n",
    "        current = self.head\n",
    "        prev = None\n",
    "        found = False\n",
    "        while current != None:\n",
    "            if current.key == key:\n",
    "                found = True\n",
    "                break\n",
    "            if current.next is None:\n",
    "                break\n",
    "            prev = current\n",
    "            current = current.next\n",
    "\n",
    "        if not found:\n",
    "            raise Exception(\"Element Not found.\")\n",
    "        if prev is None:\n",
    "            self.head = current.next\n",
    "        else:\n",
    "            prev.next = current.next\n",
    "        del current\n",
    "\n",
    "    def print_ll(self):\n",
    "        current = self.head\n",
    "        while current != None:\n",
    "            print(f'{current.key}', end = \" => \")\n",
    "            current = current.next\n",
    "        print('None')"
   ]
  },
  {
   "cell_type": "code",
   "execution_count": 19,
   "metadata": {},
   "outputs": [],
   "source": [
    "my_ll = SinglyLinkedList()\n",
    "for i in range(34,42):\n",
    "    my_ll.insert(i)"
   ]
  },
  {
   "cell_type": "code",
   "execution_count": 20,
   "metadata": {},
   "outputs": [
    {
     "name": "stdout",
     "output_type": "stream",
     "text": [
      "41 => 40 => 39 => 38 => 37 => 36 => 35 => 34 => None\n",
      "Searching 37 | Result: 37\n",
      "Searching 50 | Result: None\n",
      "Deleting 41\n",
      "40 => 39 => 38 => 37 => 36 => 35 => 34 => None\n",
      "Deleting 34\n",
      "40 => 39 => 38 => 37 => 36 => 35 => None\n",
      "Deleting 36\n",
      "40 => 39 => 38 => 37 => 35 => None\n"
     ]
    }
   ],
   "source": [
    "my_ll.print_ll()\n",
    "print(f\"Searching 37 | Result: {my_ll.search(37).key}\")\n",
    "print(f\"Searching 50 | Result: {my_ll.search(50)}\") # 50 doesn't exist\n",
    "my_ll.delete(41)\n",
    "print(f\"Deleting 41\")\n",
    "my_ll.print_ll() \n",
    "my_ll.delete(34)\n",
    "print(f\"Deleting 34\")\n",
    "my_ll.print_ll() \n",
    "my_ll.delete(36)\n",
    "print(f\"Deleting 36\")\n",
    "my_ll.print_ll() \n"
   ]
  }
 ],
 "metadata": {
  "kernelspec": {
   "display_name": "Python 3",
   "language": "python",
   "name": "python3"
  },
  "language_info": {
   "codemirror_mode": {
    "name": "ipython",
    "version": 3
   },
   "file_extension": ".py",
   "mimetype": "text/x-python",
   "name": "python",
   "nbconvert_exporter": "python",
   "pygments_lexer": "ipython3",
   "version": "3.13.0"
  }
 },
 "nbformat": 4,
 "nbformat_minor": 2
}

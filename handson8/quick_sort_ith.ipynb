{
 "cells": [
  {
   "cell_type": "code",
   "execution_count": 1,
   "metadata": {},
   "outputs": [],
   "source": [
    "import random\n",
    "\n",
    "def quicksort_ith(arr, start, end, i):\n",
    "    if start == end:\n",
    "        return arr[start]\n",
    "\n",
    "    pivot = random.choice([start + j for j in range(end - start + 1)])  # Random pivot\n",
    "    arr[pivot], arr[end] = arr[end], arr[pivot]  # Move pivot to end\n",
    "    pivot = end\n",
    "    left = start\n",
    "    right = end - 1\n",
    "\n",
    "    while left <= right:\n",
    "        if arr[left] > arr[pivot] and arr[right] < arr[pivot]:\n",
    "            arr[left], arr[right] = arr[right], arr[left]\n",
    "            left += 1\n",
    "            right -= 1\n",
    "        elif arr[left] <= arr[pivot]:\n",
    "            left += 1\n",
    "        elif arr[right] >= arr[pivot]:\n",
    "            right -= 1\n",
    "\n",
    "    arr[left], arr[end] = arr[end], arr[left] \n",
    "\n",
    "    if left == i:  # Found the i-th order statistic\n",
    "        return arr[left]\n",
    "    elif left > i:  # Search in the left partition\n",
    "        return quicksort_ith(arr, start, left - 1, i)\n",
    "    else:  # Search in the right partition\n",
    "        return quicksort_ith(arr, left + 1, end, i)\n",
    "\n",
    "def ith_order_statistic(A, i):\n",
    "    return quicksort_ith(A, 0, len(A) - 1, i)"
   ]
  },
  {
   "cell_type": "code",
   "execution_count": 7,
   "metadata": {},
   "outputs": [
    {
     "name": "stdout",
     "output_type": "stream",
     "text": [
      "4th order statistic for arr=[10, 4, 5, 8, 6, 11, 26] is 10\n",
      "3th order statistic for arr=[56, 87, 34, 67, 54, 22, 55, 66] is 55\n",
      "6th order statistic for arr=[10, 4, 5, 8, 6, 11, 26] is 26\n"
     ]
    }
   ],
   "source": [
    "arr = [10, 4, 5, 8, 6, 11, 26]\n",
    "i = 4\n",
    "print(f\"{i}th order statistic for arr={arr} is {ith_order_statistic(arr, i)}\")\n",
    "\n",
    "arr = [56,87,34,67,54,22,55,66]\n",
    "i = 3\n",
    "print(f\"{i}th order statistic for arr={arr} is {ith_order_statistic(arr, i)}\")\n",
    "\n",
    "arr = [10, 4, 5, 8, 6, 11, 26]\n",
    "i = 6\n",
    "print(f\"{i}th order statistic for arr={arr} is {ith_order_statistic(arr, i)}\")"
   ]
  }
 ],
 "metadata": {
  "kernelspec": {
   "display_name": "Python 3",
   "language": "python",
   "name": "python3"
  },
  "language_info": {
   "codemirror_mode": {
    "name": "ipython",
    "version": 3
   },
   "file_extension": ".py",
   "mimetype": "text/x-python",
   "name": "python",
   "nbconvert_exporter": "python",
   "pygments_lexer": "ipython3",
   "version": "3.13.0"
  }
 },
 "nbformat": 4,
 "nbformat_minor": 2
}

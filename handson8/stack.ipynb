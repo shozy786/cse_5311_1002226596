{
 "cells": [
  {
   "cell_type": "code",
   "execution_count": 6,
   "metadata": {},
   "outputs": [],
   "source": [
    "class Stack:\n",
    "    def __init__(self, size):\n",
    "        self.size = size\n",
    "        self.S = [None for i in range(size)]\n",
    "        self.top = -1\n",
    "\n",
    "    def push(self, value):\n",
    "        if self.top == self.size - 1:\n",
    "            raise Exception(\"Stack Overflow\")\n",
    "        self.top += 1\n",
    "        self.S[self.top] = value\n",
    "    \n",
    "    def pop(self):\n",
    "        if self.stack_empty():\n",
    "            raise Exception(\"Stack Underflow\")\n",
    "        data = self.S[self.top]\n",
    "        self.top -= 1\n",
    "        return data\n",
    "\n",
    "    def stack_empty(self):\n",
    "        return self.top == -1\n",
    "    \n",
    "    def __str__(self):\n",
    "        return str(self.S[0:self.top+1])"
   ]
  },
  {
   "cell_type": "code",
   "execution_count": null,
   "metadata": {},
   "outputs": [
    {
     "name": "stdout",
     "output_type": "stream",
     "text": [
      "Stack state: [5, 7, 8, 2, 45]\n",
      "Pop result: 45\n",
      "Stack state: [5, 7, 8, 2]\n",
      "Pop result: 2\n",
      "Pushing 55\n",
      "Stack state: [5, 7, 8, 55]\n"
     ]
    }
   ],
   "source": [
    "my_stack = Stack(20)\n",
    "my_stack.push(5)\n",
    "my_stack.push(7)\n",
    "my_stack.push(8)\n",
    "my_stack.push(2)\n",
    "my_stack.push(45)\n",
    "print(f\"Stack state: {my_stack}\")\n",
    "print(f\"Pop result: {my_stack.pop()}\")\n",
    "print(f\"Stack state: {my_stack}\")\n",
    "print(f\"Pop result: {my_stack.pop()}\")\n",
    "print(f\"Pushing 55\")\n",
    "my_stack.push(55)\n",
    "print(f\"Stack state: {my_stack}\")"
   ]
  }
 ],
 "metadata": {
  "kernelspec": {
   "display_name": "Python 3",
   "language": "python",
   "name": "python3"
  },
  "language_info": {
   "codemirror_mode": {
    "name": "ipython",
    "version": 3
   },
   "file_extension": ".py",
   "mimetype": "text/x-python",
   "name": "python",
   "nbconvert_exporter": "python",
   "pygments_lexer": "ipython3",
   "version": "3.13.0"
  }
 },
 "nbformat": 4,
 "nbformat_minor": 2
}

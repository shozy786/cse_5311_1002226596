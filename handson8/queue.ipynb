{
 "cells": [
  {
   "cell_type": "code",
   "execution_count": 16,
   "metadata": {},
   "outputs": [],
   "source": [
    "class Queue:\n",
    "    def __init__(self, size):\n",
    "        self.size = size\n",
    "        self.queue = [None for i in range(size)]\n",
    "        self.head = 0  \n",
    "        self.tail = 0  \n",
    "        self.current = 0  \n",
    "\n",
    "    def enqueue(self, value):\n",
    "        if self.current == self.size:\n",
    "            raise Exception(\"Queue Overflow\")\n",
    "        self.queue[self.tail] = value\n",
    "        self.tail = (self.tail + 1) % self.size\n",
    "        self.current += 1\n",
    "\n",
    "    def dequeue(self):\n",
    "        if self.is_empty():\n",
    "            raise Exception(\"Queue Underflow\")\n",
    "        data = self.queue[self.head]\n",
    "        self.head = (self.head + 1) % self.size\n",
    "        self.current -= 1\n",
    "        return data\n",
    "\n",
    "    def is_empty(self):\n",
    "        return self.current == 0\n",
    "\n",
    "    def peek(self):\n",
    "        if self.is_empty():\n",
    "            return None\n",
    "        return self.queue[self.head]\n",
    "\n",
    "    def print_queue(self):\n",
    "        index = self.head\n",
    "        print('[', end='')\n",
    "        for i in range(self.current):\n",
    "            end = ' , '\n",
    "            if i == self.current-1:\n",
    "                end = ']\\n'\n",
    "            print(self.queue[index], end=end)\n",
    "            index = (index + 1) % self.size"
   ]
  },
  {
   "cell_type": "code",
   "execution_count": 17,
   "metadata": {},
   "outputs": [
    {
     "name": "stdout",
     "output_type": "stream",
     "text": [
      "Dequeue result: 20\n",
      "Queue state: [10 , 20 , 30]\n",
      "Enqueueing 55\n",
      "Dequeue result: 10\n",
      "Queue state: [20 , 30 , 55]\n"
     ]
    }
   ],
   "source": [
    "my_queue = Queue(20)\n",
    "my_queue.enqueue(20)\n",
    "my_queue.enqueue(10)\n",
    "my_queue.enqueue(20)\n",
    "my_queue.enqueue(30)\n",
    "print(f\"Dequeue result: {my_queue.dequeue()}\")\n",
    "print(\"Queue state: \", end='')\n",
    "my_queue.print_queue() \n",
    "print(\"Enqueueing 55\")\n",
    "my_queue.enqueue(55)\n",
    "print(f\"Dequeue result: {my_queue.dequeue()}\")\n",
    "print(\"Queue state: \", end='')\n",
    "my_queue.print_queue() "
   ]
  }
 ],
 "metadata": {
  "kernelspec": {
   "display_name": "Python 3",
   "language": "python",
   "name": "python3"
  },
  "language_info": {
   "codemirror_mode": {
    "name": "ipython",
    "version": 3
   },
   "file_extension": ".py",
   "mimetype": "text/x-python",
   "name": "python",
   "nbconvert_exporter": "python",
   "pygments_lexer": "ipython3",
   "version": "3.13.0"
  }
 },
 "nbformat": 4,
 "nbformat_minor": 2
}

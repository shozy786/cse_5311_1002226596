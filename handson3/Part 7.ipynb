{
 "cells": [
  {
   "cell_type": "markdown",
   "metadata": {},
   "source": [
    "### CSE 5311 - 006 - Hands On 3 - Part 6\n",
    "Student Number: 1002226596\n",
    "\n",
    "Student Email: sxa6596@mavs.uta.edu\n",
    "\n",
    "6. Implement merge sort, upload your code to github and show/test it on the array [5,2,4,7,1,3,2,6]."
   ]
  },
  {
   "cell_type": "code",
   "execution_count": 9,
   "metadata": {},
   "outputs": [],
   "source": [
    "def merge_sort(arr):\n",
    "    size = len(arr)\n",
    "    if size == 1:\n",
    "        return arr\n",
    "    \n",
    "    dividor = len(arr) // 2\n",
    "\n",
    "    arr1 = merge_sort(arr[0: dividor])\n",
    "    arr2 = merge_sort(arr[dividor:])\n",
    "\n",
    "    result = []\n",
    "    i1 = 0\n",
    "    i2 = 0\n",
    "    while i1 < len(arr1) and i2 < len(arr2):\n",
    "        if arr1[i1] <= arr2[i2]:\n",
    "            result.append(arr1[i1])\n",
    "            i1 += 1\n",
    "        elif arr2[i2] < arr1[i1]:\n",
    "            result.append(arr2[i2])\n",
    "            i2 += 1\n",
    "    result += arr1[i1:] + arr2[i2:] # Append if there's anything left\n",
    "    return result\n",
    "        "
   ]
  },
  {
   "cell_type": "code",
   "execution_count": 11,
   "metadata": {},
   "outputs": [
    {
     "name": "stdout",
     "output_type": "stream",
     "text": [
      "Unsorted Array: [5, 2, 4, 7, 1, 3, 2, 6]\n",
      "Sorted Array: [1, 2, 2, 3, 4, 5, 6, 7]\n"
     ]
    }
   ],
   "source": [
    "input = [5,2,4,7,1,3,2,6]\n",
    "output = merge_sort(input)\n",
    "print(f'Unsorted Array: {input}\\nSorted Array: {output}')"
   ]
  }
 ],
 "metadata": {
  "kernelspec": {
   "display_name": "Python 3",
   "language": "python",
   "name": "python3"
  },
  "language_info": {
   "codemirror_mode": {
    "name": "ipython",
    "version": 3
   },
   "file_extension": ".py",
   "mimetype": "text/x-python",
   "name": "python",
   "nbconvert_exporter": "python",
   "pygments_lexer": "ipython3",
   "version": "3.13.0"
  }
 },
 "nbformat": 4,
 "nbformat_minor": 2
}

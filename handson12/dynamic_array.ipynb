{
 "cells": [
  {
   "cell_type": "code",
   "execution_count": null,
   "id": "6ecc90fb",
   "metadata": {},
   "outputs": [],
   "source": [
    "class Vector:\n",
    "    def __init__(self, size=20):\n",
    "        self.size = size\n",
    "        self.array = [None for _ in range(size)]\n",
    "        self.next = 0\n",
    "\n",
    "    def grow(self):\n",
    "        new_array = [None for _ in range(self.size*2)]\n",
    "        for idx, elem in enumerate(self.array):\n",
    "            new_array[idx] = elem\n",
    "        del self.array\n",
    "        self.array = new_array\n",
    "        self.size = self.size * 2\n",
    "\n",
    "    \n",
    "    def append(self, element):\n",
    "        self.array[self.next] = element\n",
    "        self.next += 1\n",
    "        \n",
    "        if self.next == self.size:\n",
    "            self.grow()\n",
    "\n",
    "    def remove(self, index):\n",
    "        ctr = index\n",
    "        while ctr < self.size - 1:\n",
    "            self.array[ctr] = self.array[ctr+1]\n",
    "            ctr += 1\n",
    "        self.next -= 1"
   ]
  },
  {
   "cell_type": "code",
   "execution_count": 2,
   "id": "26fcaca4",
   "metadata": {},
   "outputs": [
    {
     "name": "stdout",
     "output_type": "stream",
     "text": [
      "Size:  200\n",
      "Data:  [0, 1, 2, 3, 4, 5, 6, 7, 8, 9, 10, 11, 12, 13, 14, 15, 16, 17, 18, 19, 20, 21, 22, 23, 24, 25, 26, 27, 28, 29, 30, 31, 32, 33, 34, 35, 36, 37, 38, 39, 40, 41, 42, 43, 44, 45, 46, 47, 48, 49, 50, 51, 52, 53, 54, 55, 56, 57, 58, 59, 60, 61, 62, 63, 64, 65, 66, 67, 68, 69, 70, 71, 72, 73, 74, 75, 76, 77, 78, 79, 80, 81, 82, 83, 84, 85, 86, 87, 88, 89, 90, 91, 92, 93, 94, 95, 96, 97, 98, 99, None, None, None, None, None, None, None, None, None, None, None, None, None, None, None, None, None, None, None, None, None, None, None, None, None, None, None, None, None, None, None, None, None, None, None, None, None, None, None, None, None, None, None, None, None, None, None, None, None, None, None, None, None, None, None, None, None, None, None, None, None, None, None, None, None, None, None, None, None, None, None, None, None, None, None, None, None, None, None, None, None, None, None, None, None, None, None, None, None, None, None, None, None, None, None, None, None, None, None, None]\n"
     ]
    }
   ],
   "source": [
    "my_vector = Vector()\n",
    "for i in range(100):\n",
    "    my_vector.append(i)\n",
    "\n",
    "print(\"Size: \", my_vector.size)\n",
    "print(\"Data: \", my_vector.array)"
   ]
  },
  {
   "cell_type": "code",
   "execution_count": 3,
   "id": "154e68dc",
   "metadata": {},
   "outputs": [
    {
     "name": "stdout",
     "output_type": "stream",
     "text": [
      "Size:  200\n",
      "Data:  [0, 1, 2, 3, 4, 5, 6, 7, 8, 9, 10, 11, 12, 13, 14, 15, 16, 18, 19, 20, 21, 22, 23, 24, 25, 26, 27, 28, 29, 30, 31, 32, 33, 34, 35, 36, 37, 38, 39, 40, 41, 42, 43, 44, 45, 46, 47, 48, 49, 50, 51, 52, 53, 54, 55, 56, 57, 58, 59, 60, 61, 62, 63, 64, 65, 66, 67, 68, 69, 70, 71, 72, 73, 74, 75, 76, 77, 78, 79, 80, 81, 82, 83, 84, 85, 86, 87, 88, 89, 90, 91, 92, 93, 94, 95, 96, 97, 98, 99, None, None, None, None, None, None, None, None, None, None, None, None, None, None, None, None, None, None, None, None, None, None, None, None, None, None, None, None, None, None, None, None, None, None, None, None, None, None, None, None, None, None, None, None, None, None, None, None, None, None, None, None, None, None, None, None, None, None, None, None, None, None, None, None, None, None, None, None, None, None, None, None, None, None, None, None, None, None, None, None, None, None, None, None, None, None, None, None, None, None, None, None, None, None, None, None, None, None, None, None, None]\n"
     ]
    }
   ],
   "source": [
    "my_vector.remove(17)\n",
    "print(\"Size: \", my_vector.size)\n",
    "print(\"Data: \", my_vector.array)"
   ]
  },
  {
   "cell_type": "code",
   "execution_count": null,
   "id": "d7813a2d",
   "metadata": {},
   "outputs": [],
   "source": []
  }
 ],
 "metadata": {
  "kernelspec": {
   "display_name": "Python 3",
   "language": "python",
   "name": "python3"
  },
  "language_info": {
   "codemirror_mode": {
    "name": "ipython",
    "version": 3
   },
   "file_extension": ".py",
   "mimetype": "text/x-python",
   "name": "python",
   "nbconvert_exporter": "python",
   "pygments_lexer": "ipython3",
   "version": "3.13.0"
  }
 },
 "nbformat": 4,
 "nbformat_minor": 5
}
